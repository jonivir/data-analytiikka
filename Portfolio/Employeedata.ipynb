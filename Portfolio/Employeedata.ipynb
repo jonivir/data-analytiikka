{
 "cells": [
  {
   "cell_type": "code",
   "execution_count": 2,
   "metadata": {},
   "outputs": [],
   "source": [
    "import pandas as pd"
   ]
  },
  {
   "cell_type": "code",
   "execution_count": 5,
   "metadata": {},
   "outputs": [
    {
     "data": {
      "text/html": [
       "<div>\n",
       "<style scoped>\n",
       "    .dataframe tbody tr th:only-of-type {\n",
       "        vertical-align: middle;\n",
       "    }\n",
       "\n",
       "    .dataframe tbody tr th {\n",
       "        vertical-align: top;\n",
       "    }\n",
       "\n",
       "    .dataframe thead th {\n",
       "        text-align: right;\n",
       "    }\n",
       "</style>\n",
       "<table border=\"1\" class=\"dataframe\">\n",
       "  <thead>\n",
       "    <tr style=\"text-align: right;\">\n",
       "      <th></th>\n",
       "      <th>Age</th>\n",
       "      <th>Attrition</th>\n",
       "      <th>BusinessTravel</th>\n",
       "      <th>DailyRate</th>\n",
       "      <th>Department</th>\n",
       "      <th>DistanceFromHome</th>\n",
       "      <th>Education</th>\n",
       "      <th>EducationField</th>\n",
       "      <th>EmployeeCount</th>\n",
       "      <th>EmployeeNumber</th>\n",
       "      <th>...</th>\n",
       "      <th>RelationshipSatisfaction</th>\n",
       "      <th>StandardHours</th>\n",
       "      <th>StockOptionLevel</th>\n",
       "      <th>TotalWorkingYears</th>\n",
       "      <th>TrainingTimesLastYear</th>\n",
       "      <th>WorkLifeBalance</th>\n",
       "      <th>YearsAtCompany</th>\n",
       "      <th>YearsInCurrentRole</th>\n",
       "      <th>YearsSinceLastPromotion</th>\n",
       "      <th>YearsWithCurrManager</th>\n",
       "    </tr>\n",
       "  </thead>\n",
       "  <tbody>\n",
       "    <tr>\n",
       "      <th>0</th>\n",
       "      <td>41</td>\n",
       "      <td>Yes</td>\n",
       "      <td>Travel_Rarely</td>\n",
       "      <td>1102</td>\n",
       "      <td>Sales</td>\n",
       "      <td>1</td>\n",
       "      <td>2</td>\n",
       "      <td>Life Sciences</td>\n",
       "      <td>1</td>\n",
       "      <td>1</td>\n",
       "      <td>...</td>\n",
       "      <td>1</td>\n",
       "      <td>80</td>\n",
       "      <td>0</td>\n",
       "      <td>8</td>\n",
       "      <td>0</td>\n",
       "      <td>1</td>\n",
       "      <td>6</td>\n",
       "      <td>4</td>\n",
       "      <td>0</td>\n",
       "      <td>5</td>\n",
       "    </tr>\n",
       "    <tr>\n",
       "      <th>1</th>\n",
       "      <td>49</td>\n",
       "      <td>No</td>\n",
       "      <td>Travel_Frequently</td>\n",
       "      <td>279</td>\n",
       "      <td>Research &amp; Development</td>\n",
       "      <td>8</td>\n",
       "      <td>1</td>\n",
       "      <td>Life Sciences</td>\n",
       "      <td>1</td>\n",
       "      <td>2</td>\n",
       "      <td>...</td>\n",
       "      <td>4</td>\n",
       "      <td>80</td>\n",
       "      <td>1</td>\n",
       "      <td>10</td>\n",
       "      <td>3</td>\n",
       "      <td>3</td>\n",
       "      <td>10</td>\n",
       "      <td>7</td>\n",
       "      <td>1</td>\n",
       "      <td>7</td>\n",
       "    </tr>\n",
       "    <tr>\n",
       "      <th>2</th>\n",
       "      <td>37</td>\n",
       "      <td>Yes</td>\n",
       "      <td>Travel_Rarely</td>\n",
       "      <td>1373</td>\n",
       "      <td>Research &amp; Development</td>\n",
       "      <td>2</td>\n",
       "      <td>2</td>\n",
       "      <td>Other</td>\n",
       "      <td>1</td>\n",
       "      <td>4</td>\n",
       "      <td>...</td>\n",
       "      <td>2</td>\n",
       "      <td>80</td>\n",
       "      <td>0</td>\n",
       "      <td>7</td>\n",
       "      <td>3</td>\n",
       "      <td>3</td>\n",
       "      <td>0</td>\n",
       "      <td>0</td>\n",
       "      <td>0</td>\n",
       "      <td>0</td>\n",
       "    </tr>\n",
       "    <tr>\n",
       "      <th>3</th>\n",
       "      <td>33</td>\n",
       "      <td>No</td>\n",
       "      <td>Travel_Frequently</td>\n",
       "      <td>1392</td>\n",
       "      <td>Research &amp; Development</td>\n",
       "      <td>3</td>\n",
       "      <td>4</td>\n",
       "      <td>Life Sciences</td>\n",
       "      <td>1</td>\n",
       "      <td>5</td>\n",
       "      <td>...</td>\n",
       "      <td>3</td>\n",
       "      <td>80</td>\n",
       "      <td>0</td>\n",
       "      <td>8</td>\n",
       "      <td>3</td>\n",
       "      <td>3</td>\n",
       "      <td>8</td>\n",
       "      <td>7</td>\n",
       "      <td>3</td>\n",
       "      <td>0</td>\n",
       "    </tr>\n",
       "    <tr>\n",
       "      <th>4</th>\n",
       "      <td>27</td>\n",
       "      <td>No</td>\n",
       "      <td>Travel_Rarely</td>\n",
       "      <td>591</td>\n",
       "      <td>Research &amp; Development</td>\n",
       "      <td>2</td>\n",
       "      <td>1</td>\n",
       "      <td>Medical</td>\n",
       "      <td>1</td>\n",
       "      <td>7</td>\n",
       "      <td>...</td>\n",
       "      <td>4</td>\n",
       "      <td>80</td>\n",
       "      <td>1</td>\n",
       "      <td>6</td>\n",
       "      <td>3</td>\n",
       "      <td>3</td>\n",
       "      <td>2</td>\n",
       "      <td>2</td>\n",
       "      <td>2</td>\n",
       "      <td>2</td>\n",
       "    </tr>\n",
       "  </tbody>\n",
       "</table>\n",
       "<p>5 rows × 35 columns</p>\n",
       "</div>"
      ],
      "text/plain": [
       "   Age Attrition     BusinessTravel  DailyRate              Department  \\\n",
       "0   41       Yes      Travel_Rarely       1102                   Sales   \n",
       "1   49        No  Travel_Frequently        279  Research & Development   \n",
       "2   37       Yes      Travel_Rarely       1373  Research & Development   \n",
       "3   33        No  Travel_Frequently       1392  Research & Development   \n",
       "4   27        No      Travel_Rarely        591  Research & Development   \n",
       "\n",
       "   DistanceFromHome  Education EducationField  EmployeeCount  EmployeeNumber  \\\n",
       "0                 1          2  Life Sciences              1               1   \n",
       "1                 8          1  Life Sciences              1               2   \n",
       "2                 2          2          Other              1               4   \n",
       "3                 3          4  Life Sciences              1               5   \n",
       "4                 2          1        Medical              1               7   \n",
       "\n",
       "           ...           RelationshipSatisfaction StandardHours  \\\n",
       "0          ...                                  1            80   \n",
       "1          ...                                  4            80   \n",
       "2          ...                                  2            80   \n",
       "3          ...                                  3            80   \n",
       "4          ...                                  4            80   \n",
       "\n",
       "   StockOptionLevel  TotalWorkingYears  TrainingTimesLastYear WorkLifeBalance  \\\n",
       "0                 0                  8                      0               1   \n",
       "1                 1                 10                      3               3   \n",
       "2                 0                  7                      3               3   \n",
       "3                 0                  8                      3               3   \n",
       "4                 1                  6                      3               3   \n",
       "\n",
       "   YearsAtCompany YearsInCurrentRole  YearsSinceLastPromotion  \\\n",
       "0               6                  4                        0   \n",
       "1              10                  7                        1   \n",
       "2               0                  0                        0   \n",
       "3               8                  7                        3   \n",
       "4               2                  2                        2   \n",
       "\n",
       "   YearsWithCurrManager  \n",
       "0                     5  \n",
       "1                     7  \n",
       "2                     0  \n",
       "3                     0  \n",
       "4                     2  \n",
       "\n",
       "[5 rows x 35 columns]"
      ]
     },
     "execution_count": 5,
     "metadata": {},
     "output_type": "execute_result"
    }
   ],
   "source": [
    "df = pd.read_csv('employee.csv', encoding = 'cp1252')"
   ]
  },
  {
   "cell_type": "code",
   "execution_count": 11,
   "metadata": {},
   "outputs": [
    {
     "data": {
      "text/html": [
       "<style  type=\"text/css\" >\n",
       "</style>  \n",
       "<table id=\"T_4a593f3e_2498_11e9_9208_be75476f9c11\" > \n",
       "<thead>    <tr> \n",
       "        <th class=\"index_name level0\" >BusinessTravel</th> \n",
       "        <th class=\"col_heading level0 col0\" >Non-Travel</th> \n",
       "        <th class=\"col_heading level0 col1\" >Travel_Frequently</th> \n",
       "        <th class=\"col_heading level0 col2\" >Travel_Rarely</th> \n",
       "    </tr>    <tr> \n",
       "        <th class=\"index_name level0\" >Department</th> \n",
       "        <th class=\"blank\" ></th> \n",
       "        <th class=\"blank\" ></th> \n",
       "        <th class=\"blank\" ></th> \n",
       "    </tr></thead> \n",
       "<tbody>    <tr> \n",
       "        <th id=\"T_4a593f3e_2498_11e9_9208_be75476f9c11level0_row0\" class=\"row_heading level0 row0\" >Human Resources</th> \n",
       "        <td id=\"T_4a593f3e_2498_11e9_9208_be75476f9c11row0_col0\" class=\"data row0 col0\" >4.0%</td> \n",
       "        <td id=\"T_4a593f3e_2498_11e9_9208_be75476f9c11row0_col1\" class=\"data row0 col1\" >4.0%</td> \n",
       "        <td id=\"T_4a593f3e_2498_11e9_9208_be75476f9c11row0_col2\" class=\"data row0 col2\" >4.4%</td> \n",
       "    </tr>    <tr> \n",
       "        <th id=\"T_4a593f3e_2498_11e9_9208_be75476f9c11level0_row1\" class=\"row_heading level0 row1\" >Research & Development</th> \n",
       "        <td id=\"T_4a593f3e_2498_11e9_9208_be75476f9c11row1_col0\" class=\"data row1 col0\" >64.7%</td> \n",
       "        <td id=\"T_4a593f3e_2498_11e9_9208_be75476f9c11row1_col1\" class=\"data row1 col1\" >65.7%</td> \n",
       "        <td id=\"T_4a593f3e_2498_11e9_9208_be75476f9c11row1_col2\" class=\"data row1 col2\" >65.4%</td> \n",
       "    </tr>    <tr> \n",
       "        <th id=\"T_4a593f3e_2498_11e9_9208_be75476f9c11level0_row2\" class=\"row_heading level0 row2\" >Sales</th> \n",
       "        <td id=\"T_4a593f3e_2498_11e9_9208_be75476f9c11row2_col0\" class=\"data row2 col0\" >31.3%</td> \n",
       "        <td id=\"T_4a593f3e_2498_11e9_9208_be75476f9c11row2_col1\" class=\"data row2 col1\" >30.3%</td> \n",
       "        <td id=\"T_4a593f3e_2498_11e9_9208_be75476f9c11row2_col2\" class=\"data row2 col2\" >30.2%</td> \n",
       "    </tr></tbody> \n",
       "</table> "
      ],
      "text/plain": [
       "<pandas.io.formats.style.Styler at 0x223f6d250f0>"
      ]
     },
     "execution_count": 11,
     "metadata": {},
     "output_type": "execute_result"
    }
   ],
   "source": [
    "df1 = pd.crosstab(df['Department'], df['BusinessTravel'], normalize = 'columns')\n",
    "df1.style.format('{:.1%}')"
   ]
  },
  {
   "cell_type": "code",
   "execution_count": 9,
   "metadata": {},
   "outputs": [
    {
     "data": {
      "text/plain": [
       "[Text(0, 0, '0%'),\n",
       " Text(0, 0, '10%'),\n",
       " Text(0, 0, '20%'),\n",
       " Text(0, 0, '30%'),\n",
       " Text(0, 0, '40%'),\n",
       " Text(0, 0, '50%'),\n",
       " Text(0, 0, '60%'),\n",
       " Text(0, 0, '70%')]"
      ]
     },
     "execution_count": 9,
     "metadata": {},
     "output_type": "execute_result"
    },
    {
     "data": {
      "image/png": "[encoded data removed]",
      "text/plain": [
       "<Figure size 432x288 with 1 Axes>"
      ]
     },
     "metadata": {
      "needs_background": "light"
     },
     "output_type": "display_data"
    }
   ],
   "source": [
    "ax = df1.plot.barh()\n",
    "vals=ax.get_xticks()\n",
    "ax.set_xticklabels(['{:.0%}'.format(x) for x in vals])"
   ]
  },
  {
   "cell_type": "code",
   "execution_count": 24,
   "metadata": {},
   "outputs": [
    {
     "data": {
      "text/html": [
       "<style  type=\"text/css\" >\n",
       "</style>  \n",
       "<table id=\"T_8d0848ee_249b_11e9_be22_be75476f9c11\" > \n",
       "<thead>    <tr> \n",
       "        <th class=\"blank level0\" ></th> \n",
       "        <th class=\"col_heading level0 col0\" >JobSatisfaction</th> \n",
       "        <th class=\"col_heading level0 col1\" >RelationshipSatisfaction</th> \n",
       "        <th class=\"col_heading level0 col2\" >WorkLifeBalance</th> \n",
       "        <th class=\"col_heading level0 col3\" >EnvironmentSatisfaction</th> \n",
       "    </tr></thead> \n",
       "<tbody>    <tr> \n",
       "        <th id=\"T_8d0848ee_249b_11e9_be22_be75476f9c11level0_row0\" class=\"row_heading level0 row0\" >Erittäin tyytymätön</th> \n",
       "        <td id=\"T_8d0848ee_249b_11e9_be22_be75476f9c11row0_col0\" class=\"data row0 col0\" >19.7%</td> \n",
       "        <td id=\"T_8d0848ee_249b_11e9_be22_be75476f9c11row0_col1\" class=\"data row0 col1\" >19.7%</td> \n",
       "        <td id=\"T_8d0848ee_249b_11e9_be22_be75476f9c11row0_col2\" class=\"data row0 col2\" >5.4%</td> \n",
       "        <td id=\"T_8d0848ee_249b_11e9_be22_be75476f9c11row0_col3\" class=\"data row0 col3\" >19.3%</td> \n",
       "    </tr>    <tr> \n",
       "        <th id=\"T_8d0848ee_249b_11e9_be22_be75476f9c11level0_row1\" class=\"row_heading level0 row1\" >Jokseenkin tyytymätön</th> \n",
       "        <td id=\"T_8d0848ee_249b_11e9_be22_be75476f9c11row1_col0\" class=\"data row1 col0\" >19.0%</td> \n",
       "        <td id=\"T_8d0848ee_249b_11e9_be22_be75476f9c11row1_col1\" class=\"data row1 col1\" >19.0%</td> \n",
       "        <td id=\"T_8d0848ee_249b_11e9_be22_be75476f9c11row1_col2\" class=\"data row1 col2\" >23.4%</td> \n",
       "        <td id=\"T_8d0848ee_249b_11e9_be22_be75476f9c11row1_col3\" class=\"data row1 col3\" >19.5%</td> \n",
       "    </tr>    <tr> \n",
       "        <th id=\"T_8d0848ee_249b_11e9_be22_be75476f9c11level0_row2\" class=\"row_heading level0 row2\" >Jokseenkin tyytyväinen</th> \n",
       "        <td id=\"T_8d0848ee_249b_11e9_be22_be75476f9c11row2_col0\" class=\"data row2 col0\" >30.1%</td> \n",
       "        <td id=\"T_8d0848ee_249b_11e9_be22_be75476f9c11row2_col1\" class=\"data row2 col1\" >30.1%</td> \n",
       "        <td id=\"T_8d0848ee_249b_11e9_be22_be75476f9c11row2_col2\" class=\"data row2 col2\" >60.7%</td> \n",
       "        <td id=\"T_8d0848ee_249b_11e9_be22_be75476f9c11row2_col3\" class=\"data row2 col3\" >30.8%</td> \n",
       "    </tr>    <tr> \n",
       "        <th id=\"T_8d0848ee_249b_11e9_be22_be75476f9c11level0_row3\" class=\"row_heading level0 row3\" >Erittäin tyytyväinen</th> \n",
       "        <td id=\"T_8d0848ee_249b_11e9_be22_be75476f9c11row3_col0\" class=\"data row3 col0\" >31.2%</td> \n",
       "        <td id=\"T_8d0848ee_249b_11e9_be22_be75476f9c11row3_col1\" class=\"data row3 col1\" >31.2%</td> \n",
       "        <td id=\"T_8d0848ee_249b_11e9_be22_be75476f9c11row3_col2\" class=\"data row3 col2\" >10.4%</td> \n",
       "        <td id=\"T_8d0848ee_249b_11e9_be22_be75476f9c11row3_col3\" class=\"data row3 col3\" >30.3%</td> \n",
       "    </tr></tbody> \n",
       "</table> "
      ],
      "text/plain": [
       "<pandas.io.formats.style.Styler at 0x223f74d7080>"
      ]
     },
     "execution_count": 24,
     "metadata": {},
     "output_type": "execute_result"
    }
   ],
   "source": [
    "df2 = df['JobSatisfaction'].value_counts(sort=False, normalize=True).to_frame()\n",
    "df2['RelationshipSatisfaction'] = df['JobSatisfaction'].value_counts(sort=False, normalize=True)\n",
    "df2['WorkLifeBalance'] = df['WorkLifeBalance'].value_counts(sort=False, normalize=True)\n",
    "df2['EnvironmentSatisfaction'] = df['EnvironmentSatisfaction'].value_counts(sort=False, normalize=True)\n",
    "df2.index = ['Erittäin tyytymätön', 'Jokseenkin tyytymätön', 'Jokseenkin tyytyväinen', 'Erittäin tyytyväinen']\n",
    "df2.style.format('{:.1%}')"
   ]
  },
  {
   "cell_type": "code",
   "execution_count": 25,
   "metadata": {},
   "outputs": [
    {
     "data": {
      "text/plain": [
       "[Text(0, 0, '0%'),\n",
       " Text(0, 0, '20%'),\n",
       " Text(0, 0, '40%'),\n",
       " Text(0, 0, '60%'),\n",
       " Text(0, 0, '80%'),\n",
       " Text(0, 0, '100%'),\n",
       " Text(0, 0, '120%')]"
      ]
     },
     "execution_count": 25,
     "metadata": {},
     "output_type": "execute_result"
    },
    {
     "data": {
      "image/png": "[encoded data removed]",
      "text/plain": [
       "<Figure size 432x288 with 1 Axes>"
      ]
     },
     "metadata": {
      "needs_background": "light"
     },
     "output_type": "display_data"
    }
   ],
   "source": [
    "ax = df2.transpose().plot.barh(stacked = True)\n",
    "vals=ax.get_xticks()\n",
    "ax.set_xticklabels(['{:.0%}'.format(x) for x in vals])"
   ]
  },
  {
   "cell_type": "code",
   "execution_count": 43,
   "metadata": {},
   "outputs": [
    {
     "data": {
      "text/html": [
       "<style  type=\"text/css\" >\n",
       "</style>  \n",
       "<table id=\"T_4f312ad2_249e_11e9_84f8_be75476f9c11\" > \n",
       "<thead>    <tr> \n",
       "        <th class=\"index_name level0\" >EducationField</th> \n",
       "        <th class=\"col_heading level0 col0\" >Human Resources</th> \n",
       "        <th class=\"col_heading level0 col1\" >Life Sciences</th> \n",
       "        <th class=\"col_heading level0 col2\" >Marketing</th> \n",
       "        <th class=\"col_heading level0 col3\" >Medical</th> \n",
       "        <th class=\"col_heading level0 col4\" >Other</th> \n",
       "        <th class=\"col_heading level0 col5\" >Technical Degree</th> \n",
       "    </tr>    <tr> \n",
       "        <th class=\"index_name level0\" >palkkaluokka</th> \n",
       "        <th class=\"blank\" ></th> \n",
       "        <th class=\"blank\" ></th> \n",
       "        <th class=\"blank\" ></th> \n",
       "        <th class=\"blank\" ></th> \n",
       "        <th class=\"blank\" ></th> \n",
       "        <th class=\"blank\" ></th> \n",
       "    </tr></thead> \n",
       "<tbody>    <tr> \n",
       "        <th id=\"T_4f312ad2_249e_11e9_84f8_be75476f9c11level0_row0\" class=\"row_heading level0 row0\" >(0, 5000]</th> \n",
       "        <td id=\"T_4f312ad2_249e_11e9_84f8_be75476f9c11row0_col0\" class=\"data row0 col0\" >51.9%</td> \n",
       "        <td id=\"T_4f312ad2_249e_11e9_84f8_be75476f9c11row0_col1\" class=\"data row0 col1\" >50.5%</td> \n",
       "        <td id=\"T_4f312ad2_249e_11e9_84f8_be75476f9c11row0_col2\" class=\"data row0 col2\" >32.1%</td> \n",
       "        <td id=\"T_4f312ad2_249e_11e9_84f8_be75476f9c11row0_col3\" class=\"data row0 col3\" >53.9%</td> \n",
       "        <td id=\"T_4f312ad2_249e_11e9_84f8_be75476f9c11row0_col4\" class=\"data row0 col4\" >63.4%</td> \n",
       "        <td id=\"T_4f312ad2_249e_11e9_84f8_be75476f9c11row0_col5\" class=\"data row0 col5\" >57.6%</td> \n",
       "    </tr>    <tr> \n",
       "        <th id=\"T_4f312ad2_249e_11e9_84f8_be75476f9c11level0_row1\" class=\"row_heading level0 row1\" >(5000, 10000]</th> \n",
       "        <td id=\"T_4f312ad2_249e_11e9_84f8_be75476f9c11row1_col0\" class=\"data row1 col0\" >25.9%</td> \n",
       "        <td id=\"T_4f312ad2_249e_11e9_84f8_be75476f9c11row1_col1\" class=\"data row1 col1\" >30.9%</td> \n",
       "        <td id=\"T_4f312ad2_249e_11e9_84f8_be75476f9c11row1_col2\" class=\"data row1 col2\" >48.4%</td> \n",
       "        <td id=\"T_4f312ad2_249e_11e9_84f8_be75476f9c11row1_col3\" class=\"data row1 col3\" >25.4%</td> \n",
       "        <td id=\"T_4f312ad2_249e_11e9_84f8_be75476f9c11row1_col4\" class=\"data row1 col4\" >22.0%</td> \n",
       "        <td id=\"T_4f312ad2_249e_11e9_84f8_be75476f9c11row1_col5\" class=\"data row1 col5\" >25.0%</td> \n",
       "    </tr>    <tr> \n",
       "        <th id=\"T_4f312ad2_249e_11e9_84f8_be75476f9c11level0_row2\" class=\"row_heading level0 row2\" >(10000, 15000]</th> \n",
       "        <td id=\"T_4f312ad2_249e_11e9_84f8_be75476f9c11row2_col0\" class=\"data row2 col0\" >0.0%</td> \n",
       "        <td id=\"T_4f312ad2_249e_11e9_84f8_be75476f9c11row2_col1\" class=\"data row2 col1\" >9.2%</td> \n",
       "        <td id=\"T_4f312ad2_249e_11e9_84f8_be75476f9c11row2_col2\" class=\"data row2 col2\" >11.3%</td> \n",
       "        <td id=\"T_4f312ad2_249e_11e9_84f8_be75476f9c11row2_col3\" class=\"data row2 col3\" >11.0%</td> \n",
       "        <td id=\"T_4f312ad2_249e_11e9_84f8_be75476f9c11row2_col4\" class=\"data row2 col4\" >6.1%</td> \n",
       "        <td id=\"T_4f312ad2_249e_11e9_84f8_be75476f9c11row2_col5\" class=\"data row2 col5\" >13.6%</td> \n",
       "    </tr>    <tr> \n",
       "        <th id=\"T_4f312ad2_249e_11e9_84f8_be75476f9c11level0_row3\" class=\"row_heading level0 row3\" >(15000, 20000]</th> \n",
       "        <td id=\"T_4f312ad2_249e_11e9_84f8_be75476f9c11row3_col0\" class=\"data row3 col0\" >22.2%</td> \n",
       "        <td id=\"T_4f312ad2_249e_11e9_84f8_be75476f9c11row3_col1\" class=\"data row3 col1\" >9.4%</td> \n",
       "        <td id=\"T_4f312ad2_249e_11e9_84f8_be75476f9c11row3_col2\" class=\"data row3 col2\" >8.2%</td> \n",
       "        <td id=\"T_4f312ad2_249e_11e9_84f8_be75476f9c11row3_col3\" class=\"data row3 col3\" >9.7%</td> \n",
       "        <td id=\"T_4f312ad2_249e_11e9_84f8_be75476f9c11row3_col4\" class=\"data row3 col4\" >8.5%</td> \n",
       "        <td id=\"T_4f312ad2_249e_11e9_84f8_be75476f9c11row3_col5\" class=\"data row3 col5\" >3.8%</td> \n",
       "    </tr></tbody> \n",
       "</table> "
      ],
      "text/plain": [
       "<pandas.io.formats.style.Styler at 0x223f76d1b38>"
      ]
     },
     "execution_count": 43,
     "metadata": {},
     "output_type": "execute_result"
    }
   ],
   "source": [
    "bins = [0, 5000, 10000, 15000, 20000]\n",
    "df['palkkaluokka'] = pd.cut(df['MonthlyIncome'], bins=bins)\n",
    "df3 = pd.crosstab(df['palkkaluokka'], df['EducationField'], normalize='columns')\n",
    "df3.style.format('{:.1%}')"
   ]
  },
  {
   "cell_type": "code",
   "execution_count": 44,
   "metadata": {},
   "outputs": [
    {
     "data": {
      "text/plain": [
       "<matplotlib.axes._subplots.AxesSubplot at 0x223f7647438>"
      ]
     },
     "execution_count": 44,
     "metadata": {},
     "output_type": "execute_result"
    },
    {
     "data": {
      "image/png": "[encoded data removed]",
      "text/plain": [
       "<Figure size 432x288 with 1 Axes>"
      ]
     },
     "metadata": {
      "needs_background": "light"
     },
     "output_type": "display_data"
    }
   ],
   "source": [
    "df3.transpose().plot.barh(stacked=True)"
   ]
  },
  {
   "cell_type": "code",
   "execution_count": null,
   "metadata": {},
   "outputs": [],
   "source": []
  }
 ],
 "metadata": {
  "kernelspec": {
   "display_name": "Python 3",
   "language": "python",
   "name": "python3"
  },
  "language_info": {
   "codemirror_mode": {
    "name": "ipython",
    "version": 3
   },
   "file_extension": ".py",
   "mimetype": "text/x-python",
   "name": "python",
   "nbconvert_exporter": "python",
   "pygments_lexer": "ipython3",
   "version": "3.7.1"
  }
 },
 "nbformat": 4,
 "nbformat_minor": 2
}
