{
 "cells": [
  {
   "cell_type": "code",
   "execution_count": 1,
   "metadata": {},
   "outputs": [],
   "source": [
    "import pandas as pd\n",
    "import matplotlib.pyplot as plt\n",
    "%matplotlib inline\n",
    "from math import sqrt\n",
    "import seaborn as sns\n",
    "plt.style.use('seaborn-white')"
   ]
  },
  {
   "cell_type": "code",
   "execution_count": 2,
   "metadata": {},
   "outputs": [
    {
     "data": {
      "text/html": [
       "<div>\n",
       "<style scoped>\n",
       "    .dataframe tbody tr th:only-of-type {\n",
       "        vertical-align: middle;\n",
       "    }\n",
       "\n",
       "    .dataframe tbody tr th {\n",
       "        vertical-align: top;\n",
       "    }\n",
       "\n",
       "    .dataframe thead th {\n",
       "        text-align: right;\n",
       "    }\n",
       "</style>\n",
       "<table border=\"1\" class=\"dataframe\">\n",
       "  <thead>\n",
       "    <tr style=\"text-align: right;\">\n",
       "      <th></th>\n",
       "      <th>CO2</th>\n",
       "    </tr>\n",
       "    <tr>\n",
       "      <th>Kuukausi</th>\n",
       "      <th></th>\n",
       "    </tr>\n",
       "  </thead>\n",
       "  <tbody>\n",
       "    <tr>\n",
       "      <th>2018-09-01</th>\n",
       "      <td>405.51</td>\n",
       "    </tr>\n",
       "    <tr>\n",
       "      <th>2018-10-01</th>\n",
       "      <td>406.00</td>\n",
       "    </tr>\n",
       "    <tr>\n",
       "      <th>2018-11-01</th>\n",
       "      <td>408.02</td>\n",
       "    </tr>\n",
       "    <tr>\n",
       "      <th>2018-12-01</th>\n",
       "      <td>409.07</td>\n",
       "    </tr>\n",
       "    <tr>\n",
       "      <th>2019-01-01</th>\n",
       "      <td>410.81</td>\n",
       "    </tr>\n",
       "  </tbody>\n",
       "</table>\n",
       "</div>"
      ],
      "text/plain": [
       "               CO2\n",
       "Kuukausi          \n",
       "2018-09-01  405.51\n",
       "2018-10-01  406.00\n",
       "2018-11-01  408.02\n",
       "2018-12-01  409.07\n",
       "2019-01-01  410.81"
      ]
     },
     "execution_count": 2,
     "metadata": {},
     "output_type": "execute_result"
    }
   ],
   "source": [
    "df=pd.read_excel('http://taanila.fi/CO2.xlsx')\n",
    "df.index = pd.to_datetime(df['Kuukausi'],format=\"%Y-%m\")\n",
    "df=df.drop('Kuukausi',axis=1)\n",
    "df.tail()"
   ]
  },
  {
   "cell_type": "code",
   "execution_count": 15,
   "metadata": {
    "scrolled": true
   },
   "outputs": [
    {
     "data": {
      "text/plain": [
       "<matplotlib.axes._subplots.AxesSubplot at 0x2080beccc18>"
      ]
     },
     "execution_count": 15,
     "metadata": {},
     "output_type": "execute_result"
    },
    {
     "data": {
      "image/png": "[encoded data removed]",
      "text/plain": [
       "<Figure size 432x288 with 1 Axes>"
      ]
     },
     "metadata": {
      "needs_background": "light"
     },
     "output_type": "display_data"
    }
   ],
   "source": [
    "df['CO2'].plot()\n",
    "\n",
    "#Liukuva keskiarvo CO2-pitoisuudesta\n",
    "df['CO2'].rolling(12).mean().plot()"
   ]
  },
  {
   "cell_type": "code",
   "execution_count": 4,
   "metadata": {
    "scrolled": true
   },
   "outputs": [
    {
     "data": {
      "text/html": [
       "<div>\n",
       "<style scoped>\n",
       "    .dataframe tbody tr th:only-of-type {\n",
       "        vertical-align: middle;\n",
       "    }\n",
       "\n",
       "    .dataframe tbody tr th {\n",
       "        vertical-align: top;\n",
       "    }\n",
       "\n",
       "    .dataframe thead th {\n",
       "        text-align: right;\n",
       "    }\n",
       "</style>\n",
       "<table border=\"1\" class=\"dataframe\">\n",
       "  <thead>\n",
       "    <tr style=\"text-align: right;\">\n",
       "      <th></th>\n",
       "      <th>CO2</th>\n",
       "      <th>pmuutos</th>\n",
       "    </tr>\n",
       "    <tr>\n",
       "      <th>Kuukausi</th>\n",
       "      <th></th>\n",
       "      <th></th>\n",
       "    </tr>\n",
       "  </thead>\n",
       "  <tbody>\n",
       "    <tr>\n",
       "      <th>1999-12-01</th>\n",
       "      <td>368.04</td>\n",
       "      <td>NaN</td>\n",
       "    </tr>\n",
       "    <tr>\n",
       "      <th>2000-01-01</th>\n",
       "      <td>369.25</td>\n",
       "      <td>0.003288</td>\n",
       "    </tr>\n",
       "    <tr>\n",
       "      <th>2000-02-01</th>\n",
       "      <td>369.50</td>\n",
       "      <td>0.000677</td>\n",
       "    </tr>\n",
       "    <tr>\n",
       "      <th>2000-03-01</th>\n",
       "      <td>370.56</td>\n",
       "      <td>0.002869</td>\n",
       "    </tr>\n",
       "    <tr>\n",
       "      <th>2000-04-01</th>\n",
       "      <td>371.82</td>\n",
       "      <td>0.003400</td>\n",
       "    </tr>\n",
       "  </tbody>\n",
       "</table>\n",
       "</div>"
      ],
      "text/plain": [
       "               CO2   pmuutos\n",
       "Kuukausi                    \n",
       "1999-12-01  368.04       NaN\n",
       "2000-01-01  369.25  0.003288\n",
       "2000-02-01  369.50  0.000677\n",
       "2000-03-01  370.56  0.002869\n",
       "2000-04-01  371.82  0.003400"
      ]
     },
     "execution_count": 4,
     "metadata": {},
     "output_type": "execute_result"
    }
   ],
   "source": [
    "df['pmuutos'] = df['CO2'].pct_change()\n",
    "df.head()"
   ]
  },
  {
   "cell_type": "code",
   "execution_count": 5,
   "metadata": {},
   "outputs": [
    {
     "data": {
      "text/plain": [
       "<matplotlib.axes._subplots.AxesSubplot at 0x208089cc9b0>"
      ]
     },
     "execution_count": 5,
     "metadata": {},
     "output_type": "execute_result"
    },
    {
     "data": {
      "image/png": "[encoded data removed]",
      "text/plain": [
       "<Figure size 432x288 with 1 Axes>"
      ]
     },
     "metadata": {
      "needs_background": "light"
     },
     "output_type": "display_data"
    }
   ],
   "source": [
    "#Prosenttimuutokset kuvaajana\n",
    "df['pmuutos'].plot()"
   ]
  },
  {
   "cell_type": "code",
   "execution_count": 6,
   "metadata": {},
   "outputs": [
    {
     "data": {
      "text/html": [
       "<div>\n",
       "<style scoped>\n",
       "    .dataframe tbody tr th:only-of-type {\n",
       "        vertical-align: middle;\n",
       "    }\n",
       "\n",
       "    .dataframe tbody tr th {\n",
       "        vertical-align: top;\n",
       "    }\n",
       "\n",
       "    .dataframe thead th {\n",
       "        text-align: right;\n",
       "    }\n",
       "</style>\n",
       "<table border=\"1\" class=\"dataframe\">\n",
       "  <thead>\n",
       "    <tr style=\"text-align: right;\">\n",
       "      <th></th>\n",
       "      <th>CO2</th>\n",
       "      <th>pmuutos</th>\n",
       "    </tr>\n",
       "  </thead>\n",
       "  <tbody>\n",
       "    <tr>\n",
       "      <th>count</th>\n",
       "      <td>230.000000</td>\n",
       "      <td>229.000000</td>\n",
       "    </tr>\n",
       "    <tr>\n",
       "      <th>mean</th>\n",
       "      <td>388.225652</td>\n",
       "      <td>0.000486</td>\n",
       "    </tr>\n",
       "    <tr>\n",
       "      <th>std</th>\n",
       "      <td>12.118057</td>\n",
       "      <td>0.003318</td>\n",
       "    </tr>\n",
       "    <tr>\n",
       "      <th>min</th>\n",
       "      <td>366.910000</td>\n",
       "      <td>-0.006476</td>\n",
       "    </tr>\n",
       "    <tr>\n",
       "      <th>25%</th>\n",
       "      <td>378.207500</td>\n",
       "      <td>-0.002872</td>\n",
       "    </tr>\n",
       "    <tr>\n",
       "      <th>50%</th>\n",
       "      <td>387.365000</td>\n",
       "      <td>0.001514</td>\n",
       "    </tr>\n",
       "    <tr>\n",
       "      <th>75%</th>\n",
       "      <td>397.900000</td>\n",
       "      <td>0.003334</td>\n",
       "    </tr>\n",
       "    <tr>\n",
       "      <th>max</th>\n",
       "      <td>411.240000</td>\n",
       "      <td>0.006372</td>\n",
       "    </tr>\n",
       "  </tbody>\n",
       "</table>\n",
       "</div>"
      ],
      "text/plain": [
       "              CO2     pmuutos\n",
       "count  230.000000  229.000000\n",
       "mean   388.225652    0.000486\n",
       "std     12.118057    0.003318\n",
       "min    366.910000   -0.006476\n",
       "25%    378.207500   -0.002872\n",
       "50%    387.365000    0.001514\n",
       "75%    397.900000    0.003334\n",
       "max    411.240000    0.006372"
      ]
     },
     "execution_count": 6,
     "metadata": {},
     "output_type": "execute_result"
    }
   ],
   "source": [
    "#Tunnuslukuja\n",
    "df.describe()"
   ]
  },
  {
   "cell_type": "code",
   "execution_count": 7,
   "metadata": {},
   "outputs": [
    {
     "data": {
      "text/html": [
       "<div>\n",
       "<style scoped>\n",
       "    .dataframe tbody tr th:only-of-type {\n",
       "        vertical-align: middle;\n",
       "    }\n",
       "\n",
       "    .dataframe tbody tr th {\n",
       "        vertical-align: top;\n",
       "    }\n",
       "\n",
       "    .dataframe thead th {\n",
       "        text-align: right;\n",
       "    }\n",
       "</style>\n",
       "<table border=\"1\" class=\"dataframe\">\n",
       "  <thead>\n",
       "    <tr style=\"text-align: right;\">\n",
       "      <th></th>\n",
       "      <th>CO2</th>\n",
       "      <th>pmuutos</th>\n",
       "    </tr>\n",
       "    <tr>\n",
       "      <th>Kuukausi</th>\n",
       "      <th></th>\n",
       "      <th></th>\n",
       "    </tr>\n",
       "  </thead>\n",
       "  <tbody>\n",
       "    <tr>\n",
       "      <th>2006-04-01</th>\n",
       "      <td>384.73</td>\n",
       "      <td>0.005410</td>\n",
       "    </tr>\n",
       "    <tr>\n",
       "      <th>2016-04-01</th>\n",
       "      <td>407.45</td>\n",
       "      <td>0.006372</td>\n",
       "    </tr>\n",
       "  </tbody>\n",
       "</table>\n",
       "</div>"
      ],
      "text/plain": [
       "               CO2   pmuutos\n",
       "Kuukausi                    \n",
       "2006-04-01  384.73  0.005410\n",
       "2016-04-01  407.45  0.006372"
      ]
     },
     "execution_count": 7,
     "metadata": {},
     "output_type": "execute_result"
    }
   ],
   "source": [
    "#Kuukaudet jolloin CO2-pitoisuudet ovat kasvaneet yli 0,5%\n",
    "df[(df['pmuutos']>0.005)]"
   ]
  },
  {
   "cell_type": "code",
   "execution_count": 8,
   "metadata": {},
   "outputs": [
    {
     "data": {
      "text/html": [
       "<div>\n",
       "<style scoped>\n",
       "    .dataframe tbody tr th:only-of-type {\n",
       "        vertical-align: middle;\n",
       "    }\n",
       "\n",
       "    .dataframe tbody tr th {\n",
       "        vertical-align: top;\n",
       "    }\n",
       "\n",
       "    .dataframe thead th {\n",
       "        text-align: right;\n",
       "    }\n",
       "</style>\n",
       "<table border=\"1\" class=\"dataframe\">\n",
       "  <thead>\n",
       "    <tr style=\"text-align: right;\">\n",
       "      <th></th>\n",
       "      <th>CO2</th>\n",
       "      <th>pmuutos</th>\n",
       "      <th>kuukausi</th>\n",
       "    </tr>\n",
       "    <tr>\n",
       "      <th>Kuukausi</th>\n",
       "      <th></th>\n",
       "      <th></th>\n",
       "      <th></th>\n",
       "    </tr>\n",
       "  </thead>\n",
       "  <tbody>\n",
       "    <tr>\n",
       "      <th>1999-12-01</th>\n",
       "      <td>368.04</td>\n",
       "      <td>NaN</td>\n",
       "      <td>12</td>\n",
       "    </tr>\n",
       "    <tr>\n",
       "      <th>2000-01-01</th>\n",
       "      <td>369.25</td>\n",
       "      <td>0.003288</td>\n",
       "      <td>1</td>\n",
       "    </tr>\n",
       "    <tr>\n",
       "      <th>2000-02-01</th>\n",
       "      <td>369.50</td>\n",
       "      <td>0.000677</td>\n",
       "      <td>2</td>\n",
       "    </tr>\n",
       "    <tr>\n",
       "      <th>2000-03-01</th>\n",
       "      <td>370.56</td>\n",
       "      <td>0.002869</td>\n",
       "      <td>3</td>\n",
       "    </tr>\n",
       "    <tr>\n",
       "      <th>2000-04-01</th>\n",
       "      <td>371.82</td>\n",
       "      <td>0.003400</td>\n",
       "      <td>4</td>\n",
       "    </tr>\n",
       "  </tbody>\n",
       "</table>\n",
       "</div>"
      ],
      "text/plain": [
       "               CO2   pmuutos  kuukausi\n",
       "Kuukausi                              \n",
       "1999-12-01  368.04       NaN        12\n",
       "2000-01-01  369.25  0.003288         1\n",
       "2000-02-01  369.50  0.000677         2\n",
       "2000-03-01  370.56  0.002869         3\n",
       "2000-04-01  371.82  0.003400         4"
      ]
     },
     "execution_count": 8,
     "metadata": {},
     "output_type": "execute_result"
    }
   ],
   "source": [
    "df['kuukausi'] = df.index.month\n",
    "df.head()"
   ]
  },
  {
   "cell_type": "code",
   "execution_count": 9,
   "metadata": {},
   "outputs": [
    {
     "data": {
      "text/html": [
       "<div>\n",
       "<style scoped>\n",
       "    .dataframe tbody tr th:only-of-type {\n",
       "        vertical-align: middle;\n",
       "    }\n",
       "\n",
       "    .dataframe tbody tr th {\n",
       "        vertical-align: top;\n",
       "    }\n",
       "\n",
       "    .dataframe thead th {\n",
       "        text-align: right;\n",
       "    }\n",
       "</style>\n",
       "<table border=\"1\" class=\"dataframe\">\n",
       "  <thead>\n",
       "    <tr style=\"text-align: right;\">\n",
       "      <th></th>\n",
       "      <th>count</th>\n",
       "      <th>mean</th>\n",
       "      <th>std</th>\n",
       "      <th>min</th>\n",
       "      <th>25%</th>\n",
       "      <th>50%</th>\n",
       "      <th>75%</th>\n",
       "      <th>max</th>\n",
       "    </tr>\n",
       "    <tr>\n",
       "      <th>kuukausi</th>\n",
       "      <th></th>\n",
       "      <th></th>\n",
       "      <th></th>\n",
       "      <th></th>\n",
       "      <th></th>\n",
       "      <th></th>\n",
       "      <th></th>\n",
       "      <th></th>\n",
       "    </tr>\n",
       "  </thead>\n",
       "  <tbody>\n",
       "    <tr>\n",
       "      <th>1</th>\n",
       "      <td>20.0</td>\n",
       "      <td>0.003197</td>\n",
       "      <td>0.000648</td>\n",
       "      <td>0.001767</td>\n",
       "      <td>0.002832</td>\n",
       "      <td>0.003150</td>\n",
       "      <td>0.003625</td>\n",
       "      <td>0.004254</td>\n",
       "    </tr>\n",
       "    <tr>\n",
       "      <th>2</th>\n",
       "      <td>19.0</td>\n",
       "      <td>0.001862</td>\n",
       "      <td>0.001110</td>\n",
       "      <td>0.000302</td>\n",
       "      <td>0.000817</td>\n",
       "      <td>0.001853</td>\n",
       "      <td>0.002463</td>\n",
       "      <td>0.003875</td>\n",
       "    </tr>\n",
       "    <tr>\n",
       "      <th>3</th>\n",
       "      <td>19.0</td>\n",
       "      <td>0.002381</td>\n",
       "      <td>0.000895</td>\n",
       "      <td>0.000622</td>\n",
       "      <td>0.001863</td>\n",
       "      <td>0.002276</td>\n",
       "      <td>0.002909</td>\n",
       "      <td>0.004247</td>\n",
       "    </tr>\n",
       "    <tr>\n",
       "      <th>4</th>\n",
       "      <td>19.0</td>\n",
       "      <td>0.003602</td>\n",
       "      <td>0.001245</td>\n",
       "      <td>0.001723</td>\n",
       "      <td>0.002699</td>\n",
       "      <td>0.003400</td>\n",
       "      <td>0.004411</td>\n",
       "      <td>0.006372</td>\n",
       "    </tr>\n",
       "    <tr>\n",
       "      <th>5</th>\n",
       "      <td>19.0</td>\n",
       "      <td>0.001484</td>\n",
       "      <td>0.001041</td>\n",
       "      <td>-0.000834</td>\n",
       "      <td>0.000685</td>\n",
       "      <td>0.001514</td>\n",
       "      <td>0.001969</td>\n",
       "      <td>0.003540</td>\n",
       "    </tr>\n",
       "    <tr>\n",
       "      <th>6</th>\n",
       "      <td>19.0</td>\n",
       "      <td>-0.001673</td>\n",
       "      <td>0.000907</td>\n",
       "      <td>-0.002952</td>\n",
       "      <td>-0.002288</td>\n",
       "      <td>-0.001712</td>\n",
       "      <td>-0.001169</td>\n",
       "      <td>0.000538</td>\n",
       "    </tr>\n",
       "    <tr>\n",
       "      <th>7</th>\n",
       "      <td>19.0</td>\n",
       "      <td>-0.004343</td>\n",
       "      <td>0.000718</td>\n",
       "      <td>-0.005948</td>\n",
       "      <td>-0.004963</td>\n",
       "      <td>-0.004288</td>\n",
       "      <td>-0.003812</td>\n",
       "      <td>-0.003302</td>\n",
       "    </tr>\n",
       "    <tr>\n",
       "      <th>8</th>\n",
       "      <td>19.0</td>\n",
       "      <td>-0.005218</td>\n",
       "      <td>0.000688</td>\n",
       "      <td>-0.006476</td>\n",
       "      <td>-0.005742</td>\n",
       "      <td>-0.005161</td>\n",
       "      <td>-0.004829</td>\n",
       "      <td>-0.003866</td>\n",
       "    </tr>\n",
       "    <tr>\n",
       "      <th>9</th>\n",
       "      <td>19.0</td>\n",
       "      <td>-0.003684</td>\n",
       "      <td>0.000805</td>\n",
       "      <td>-0.005466</td>\n",
       "      <td>-0.004086</td>\n",
       "      <td>-0.003504</td>\n",
       "      <td>-0.003012</td>\n",
       "      <td>-0.002759</td>\n",
       "    </tr>\n",
       "    <tr>\n",
       "      <th>10</th>\n",
       "      <td>19.0</td>\n",
       "      <td>0.000491</td>\n",
       "      <td>0.000727</td>\n",
       "      <td>-0.001040</td>\n",
       "      <td>-0.000167</td>\n",
       "      <td>0.000633</td>\n",
       "      <td>0.000919</td>\n",
       "      <td>0.001660</td>\n",
       "    </tr>\n",
       "    <tr>\n",
       "      <th>11</th>\n",
       "      <td>19.0</td>\n",
       "      <td>0.003861</td>\n",
       "      <td>0.000652</td>\n",
       "      <td>0.002690</td>\n",
       "      <td>0.003403</td>\n",
       "      <td>0.003691</td>\n",
       "      <td>0.004375</td>\n",
       "      <td>0.004975</td>\n",
       "    </tr>\n",
       "    <tr>\n",
       "      <th>12</th>\n",
       "      <td>19.0</td>\n",
       "      <td>0.003726</td>\n",
       "      <td>0.000603</td>\n",
       "      <td>0.002230</td>\n",
       "      <td>0.003541</td>\n",
       "      <td>0.003977</td>\n",
       "      <td>0.004123</td>\n",
       "      <td>0.004309</td>\n",
       "    </tr>\n",
       "  </tbody>\n",
       "</table>\n",
       "</div>"
      ],
      "text/plain": [
       "          count      mean       std       min       25%       50%       75%  \\\n",
       "kuukausi                                                                      \n",
       "1          20.0  0.003197  0.000648  0.001767  0.002832  0.003150  0.003625   \n",
       "2          19.0  0.001862  0.001110  0.000302  0.000817  0.001853  0.002463   \n",
       "3          19.0  0.002381  0.000895  0.000622  0.001863  0.002276  0.002909   \n",
       "4          19.0  0.003602  0.001245  0.001723  0.002699  0.003400  0.004411   \n",
       "5          19.0  0.001484  0.001041 -0.000834  0.000685  0.001514  0.001969   \n",
       "6          19.0 -0.001673  0.000907 -0.002952 -0.002288 -0.001712 -0.001169   \n",
       "7          19.0 -0.004343  0.000718 -0.005948 -0.004963 -0.004288 -0.003812   \n",
       "8          19.0 -0.005218  0.000688 -0.006476 -0.005742 -0.005161 -0.004829   \n",
       "9          19.0 -0.003684  0.000805 -0.005466 -0.004086 -0.003504 -0.003012   \n",
       "10         19.0  0.000491  0.000727 -0.001040 -0.000167  0.000633  0.000919   \n",
       "11         19.0  0.003861  0.000652  0.002690  0.003403  0.003691  0.004375   \n",
       "12         19.0  0.003726  0.000603  0.002230  0.003541  0.003977  0.004123   \n",
       "\n",
       "               max  \n",
       "kuukausi            \n",
       "1         0.004254  \n",
       "2         0.003875  \n",
       "3         0.004247  \n",
       "4         0.006372  \n",
       "5         0.003540  \n",
       "6         0.000538  \n",
       "7        -0.003302  \n",
       "8        -0.003866  \n",
       "9        -0.002759  \n",
       "10        0.001660  \n",
       "11        0.004975  \n",
       "12        0.004309  "
      ]
     },
     "execution_count": 9,
     "metadata": {},
     "output_type": "execute_result"
    }
   ],
   "source": [
    "#Millaisia CO2-pitoisuudet ovat olleet eri kuukausina\n",
    "df.groupby('kuukausi')['pmuutos'].describe()"
   ]
  },
  {
   "cell_type": "code",
   "execution_count": 14,
   "metadata": {},
   "outputs": [
    {
     "data": {
      "text/plain": [
       "<matplotlib.axes._subplots.AxesSubplot at 0x2080bcb9a58>"
      ]
     },
     "execution_count": 14,
     "metadata": {},
     "output_type": "execute_result"
    },
    {
     "data": {
      "image/png": "[encoded data removed]",
      "text/plain": [
       "<Figure size 432x288 with 1 Axes>"
      ]
     },
     "metadata": {
      "needs_background": "light"
     },
     "output_type": "display_data"
    }
   ],
   "source": [
    "sns.boxplot(x='kuukausi', y='CO2', data=df)"
   ]
  },
  {
   "cell_type": "code",
   "execution_count": null,
   "metadata": {},
   "outputs": [],
   "source": []
  }
 ],
 "metadata": {
  "kernelspec": {
   "display_name": "Python 3",
   "language": "python",
   "name": "python3"
  },
  "language_info": {
   "codemirror_mode": {
    "name": "ipython",
    "version": 3
   },
   "file_extension": ".py",
   "mimetype": "text/x-python",
   "name": "python",
   "nbconvert_exporter": "python",
   "pygments_lexer": "ipython3",
   "version": "3.7.1"
  }
 },
 "nbformat": 4,
 "nbformat_minor": 2
}
